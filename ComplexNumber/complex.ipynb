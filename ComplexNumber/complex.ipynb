{
 "cells": [
  {
   "cell_type": "code",
   "execution_count": 1,
   "metadata": {
    "collapsed": true
   },
   "outputs": [],
   "source": [
    "import math\n",
    "from math import sqrt\n"
   ]
  },
  {
   "cell_type": "code",
   "execution_count": 13,
   "metadata": {
    "collapsed": true
   },
   "outputs": [],
   "source": [
    "class ComplexNo(object):\n",
    "    def __init__(self, real=0, imaginary=0):\n",
    "        self.real = real\n",
    "        self.imaginary = imaginary\n",
    "\n",
    "    def __add__(self, no):\n",
    "        real = self.real + no.real\n",
    "        imaginary = self.imaginary + no.imaginary\n",
    "        return ComplexNo(real, imaginary)\n",
    "\n",
    "    def __sub__(self, no):\n",
    "        real = self.real - no.real\n",
    "        imaginary = self.imaginary - no.imaginary\n",
    "        return ComplexNo(real, imaginary)\n",
    "\n",
    "    def __mul__(self, no):\n",
    "        real = self.real * no.real - self.imaginary * no.imaginary\n",
    "        imaginary = self.real * no.imaginary + self.imaginary * no.real\n",
    "        return ComplexNo(real, imaginary)\n",
    "\n",
    "    def __truediv__(self, no):\n",
    "        try:\n",
    "            x = float(no.real ** 2 + no.imaginary ** 2)\n",
    "            y = self * ComplexNo(no.real, -no.imaginary)\n",
    "            real = y.real / x\n",
    "            imaginary = y.imaginary / x\n",
    "            return ComplexNo(real, imaginary)\n",
    "        except Exception as e:\n",
    "            print (e)\n",
    "            \n",
    "            \n",
    "    def __abs__(self):\n",
    "        return sqrt(self.real**2 + self.imaginary**2)\n",
    "\n",
    "    \n",
    "\n",
    "    def real(self):\n",
    "        return self.real\n",
    "   \n",
    "\n",
    "\n",
    "    def imaginary(self):\n",
    "        return self.imaginary\n",
    "\n",
    "\n",
    "    def conj(self):\n",
    "        return ComplexNo(self.real, - (self.imaginary))\n",
    "\n",
    "    def arg(self):\n",
    "        try:\n",
    "            a=self.real\n",
    "            b=self.imaginary\n",
    "            z=sqrt((a*a)+(b*b))\n",
    "\n",
    "            return(2*(math.atan(b/(a+z))))\n",
    "        except Exception as e:\n",
    "            print(e)\n",
    "\n",
    "\n",
    "    def __str__(self):\n",
    "        a = self.real\n",
    "        b = abs(self.imaginary)\n",
    "       \n",
    "        if isinstance(a, float):\n",
    "            a = \"%.2f\" % float(a)\n",
    "     \n",
    "        if  isinstance(b, float):\n",
    "            b = \"%.2f\" % abs(float(b))\n",
    "        if self.imaginary == 0:\n",
    "            result = str(a)\n",
    "\n",
    "        elif self.real == 0:\n",
    "            result = str(b)\n",
    "        elif self.imaginary > 0:\n",
    "            result = str(a) + \"+\" +str(b) +\"i\"\n",
    "        else:\n",
    "            result = str(a) + \"-\" +str((b)) +\"i\"\n",
    "        return result\n",
    "\n"
   ]
  },
  {
   "cell_type": "code",
   "execution_count": 14,
   "metadata": {},
   "outputs": [
    {
     "name": "stdout",
     "output_type": "stream",
     "text": [
      "7.37+75i\n"
     ]
    }
   ],
   "source": [
    "#to print addition of complex number\n",
    "x = ComplexNo(1.369, 6);\n",
    "y = ComplexNo(6,69);\n",
    "final = [x+y]\n",
    "print('\\n'.join(map(str, final)))\n"
   ]
  },
  {
   "cell_type": "code",
   "execution_count": 15,
   "metadata": {},
   "outputs": [
    {
     "name": "stdout",
     "output_type": "stream",
     "text": [
      "0.17+1.00i\n"
     ]
    }
   ],
   "source": [
    "#to print division of complex number\n",
    "x = ComplexNo(1, 6);\n",
    "y = ComplexNo(6);\n",
    "final = [x/y]\n",
    "print('\\n'.join(map(str, final)))"
   ]
  },
  {
   "cell_type": "code",
   "execution_count": 16,
   "metadata": {},
   "outputs": [
    {
     "name": "stdout",
     "output_type": "stream",
     "text": [
      "-6+38i\n"
     ]
    }
   ],
   "source": [
    "#to print multiplication of complex number\n",
    "x = ComplexNo(1, 6);\n",
    "y = ComplexNo(6,2);\n",
    "final = [x*y]\n",
    "print('\\n'.join(map(str, final)))"
   ]
  },
  {
   "cell_type": "code",
   "execution_count": 24,
   "metadata": {},
   "outputs": [
    {
     "name": "stdout",
     "output_type": "stream",
     "text": [
      "-5-57.32i\n"
     ]
    }
   ],
   "source": [
    "#to print substraction of complex number\n",
    "x = ComplexNo(1, -60);\n",
    "y = ComplexNo(6,-2.684);\n",
    "final = [x-y]\n",
    "print('\\n'.join(map(str, final)))"
   ]
  },
  {
   "cell_type": "code",
   "execution_count": 18,
   "metadata": {},
   "outputs": [
    {
     "name": "stdout",
     "output_type": "stream",
     "text": [
      "1\n"
     ]
    }
   ],
   "source": [
    "#to print real number of complex number\n",
    "x = ComplexNo(1);\n",
    "final=[x.real]\n",
    "print('\\n'.join(map(str, final)))"
   ]
  },
  {
   "cell_type": "code",
   "execution_count": 19,
   "metadata": {},
   "outputs": [
    {
     "name": "stdout",
     "output_type": "stream",
     "text": [
      "0\n"
     ]
    }
   ],
   "source": [
    "#to print imaginary of complex number\n",
    "x = ComplexNo(1);\n",
    "final=[x.imaginary]\n",
    "\n",
    "print('\\n'.join(map(str, final)))"
   ]
  },
  {
   "cell_type": "code",
   "execution_count": 20,
   "metadata": {},
   "outputs": [
    {
     "name": "stdout",
     "output_type": "stream",
     "text": [
      "1-7i\n"
     ]
    }
   ],
   "source": [
    "#to print conjugate of complex number\n",
    "x = ComplexNo(1, 7);\n",
    "final=[x.conj()]\n",
    "print('\\n'.join(map(str, final)))"
   ]
  },
  {
   "cell_type": "code",
   "execution_count": 21,
   "metadata": {},
   "outputs": [
    {
     "name": "stdout",
     "output_type": "stream",
     "text": [
      "2.3561944901923453\n"
     ]
    }
   ],
   "source": [
    "#to print argument of complex number\n",
    "x = ComplexNo(-3,3);\n",
    "final=[x.arg()]\n",
    "print('\\n'.join(map(str, final)))"
   ]
  },
  {
   "cell_type": "code",
   "execution_count": null,
   "metadata": {
    "collapsed": true
   },
   "outputs": [],
   "source": []
  }
 ],
 "metadata": {
  "kernelspec": {
   "display_name": "Python 3",
   "language": "python",
   "name": "python3"
  },
  "language_info": {
   "codemirror_mode": {
    "name": "ipython",
    "version": 3
   },
   "file_extension": ".py",
   "mimetype": "text/x-python",
   "name": "python",
   "nbconvert_exporter": "python",
   "pygments_lexer": "ipython3",
   "version": "3.6.3"
  },
  "widgets": {
   "state": {},
   "version": "1.1.2"
  }
 },
 "nbformat": 4,
 "nbformat_minor": 2
}
